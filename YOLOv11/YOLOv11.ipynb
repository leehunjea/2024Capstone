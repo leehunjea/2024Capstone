{
 "cells": [
  {
   "cell_type": "code",
   "execution_count": null,
   "metadata": {},
   "outputs": [],
   "source": [
    "from ultralytics import YOLO\n",
    "from multiprocessing import freeze_support\n",
    "import torch\n",
    "import os\n",
    "\n",
    "model = YOLO('yolo11l-seg.pt')\n",
    "\n",
    "if __name__=='__main__':\n",
    "    freeze_support()\n",
    "    \n",
    "    # GPU 사용 가능 여부 확인 및 설정\n",
    "    device = torch.device(\"cuda\" if torch.cuda.is_available() else \"cpu\")\n",
    "    \n",
    "    # 모델 학습\n",
    "    results = model.train(\n",
    "        data='C:/Users/AI-LHJ/Desktop/Wire2/data.yaml',\n",
    "        epochs=500,\n",
    "        batch=8,\n",
    "        device=device,\n",
    "        workers=4,\n",
    "        optimizer='Adam',\n",
    "        lr0=0.001,\n",
    "        imgsz=640-\n",
    "    )\n",
    "    \n",
    "    # 학습된 모델 저장\n",
    "    model_save_path = 'C:/Users/AI-LHJ/Desktop/Wire/trained_model.pt'\n",
    "    model.save(model_save_path)\n",
    "    print(f\"Trained model saved to {model_save_path}\")\n",
    "\n",
    "    # 학습된 모델 로드 및 테스트\n",
    "    loaded_model = YOLO(model_save_path)\n",
    "    \n",
    "    # 테스트 이미지로 모델 테스트\n",
    "    test_image_path = 'C:/Users/AI-LHJ/Desktop/Wire/test_image.jpg'\n",
    "    if os.path.exists(test_image_path):\n",
    "        results = loaded_model(test_image_path)\n",
    "        print(\"Test prediction completed.\")\n",
    "        # results.show()  # 결과 시각화\n",
    "    else:\n",
    "        print(\"Test image not found. Skipping test prediction.\")"
   ]
  },
  {
   "cell_type": "code",
   "execution_count": null,
   "metadata": {},
   "outputs": [
    {
     "name": "stdout",
     "output_type": "stream",
     "text": [
      "2.3.1+cu118\n",
      "False\n",
      "False\n"
     ]
    }
   ],
   "source": [
    "import torch\n",
    "print(torch.__version__)\n",
    "print(torch.backends.mps.is_built())\n",
    "print(torch.backends.mps.is_available())"
   ]
  },
  {
   "cell_type": "code",
   "execution_count": null,
   "metadata": {},
   "outputs": [],
   "source": [
    "from ultralytics import YOLO\n",
    "from multiprocessing import freeze_support\n",
    "import torch\n",
    "import os\n",
    "\n",
    "model = YOLO('yolov9c-seg.pt')\n",
    "\n",
    "if __name__=='__main__':\n",
    "    freeze_support()\n",
    "    \n",
    "    # GPU 사용 가능 여부 확인 및 설정\n",
    "    device = torch.device(\"cuda\" if torch.cuda.is_available() else \"cpu\")\n",
    "    \n",
    "    # 모델 학습\n",
    "    results = model.train(\n",
    "        data='C:/Users/AI-LHJ/Desktop/Wire2/data.yaml',\n",
    "        epochs=500,\n",
    "        batch=8,\n",
    "        device=device,\n",
    "        workers=4,\n",
    "        optimizer='Adam',\n",
    "        lr0=0.001,\n",
    "        imgsz=640\n",
    "    )\n",
    "    \n",
    "    # 학습된 모델 저장\n",
    "    model_save_path = 'C:/Users/AI-LHJ/Desktop/Wire/trained_model.pt'\n",
    "    model.save(model_save_path)\n",
    "    print(f\"Trained model saved to {model_save_path}\")\n",
    "\n",
    "    # 학습된 모델 로드 및 테스트\n",
    "    loaded_model = YOLO(model_save_path)\n",
    "    \n",
    "    # 테스트 이미지로 모델 테스트\n",
    "    test_image_path = 'C:/Users/AI-LHJ/Desktop/Wire/test_image.jpg'\n",
    "    if os.path.exists(test_image_path):\n",
    "        results = loaded_model(test_image_path)\n",
    "        print(\"Test prediction completed.\")\n",
    "        # results.show()  # 결과 시각화\n",
    "    else:\n",
    "        print(\"Test image not found. Skipping test prediction.\")"
   ]
  },
  {
   "cell_type": "code",
   "execution_count": null,
   "metadata": {},
   "outputs": [],
   "source": [
    "from ultralytics import YOLO\n",
    "\n",
    "# 모델 로드\n",
    "model = YOLO(\"C:/Users/AI-LHJ/Desktop/YOLOv11/runs/segment/train12/weights/best.pt\")  # 사용자 정의 모델을 로드합니다\n",
    "\n",
    "# 모델 검증\n",
    "metrics = model.val()  # 인자가 필요 없음, 데이터셋과 설정이 기억됩니다\n",
    "metrics.box.map    # map50-95\n",
    "metrics.box.map50  # map50\n",
    "metrics.box.map75  # map75\n",
    "metrics.box.maps   # 각 카테고리의 map50-95가 포함된 목록"
   ]
  },
  {
   "cell_type": "code",
   "execution_count": null,
   "metadata": {},
   "outputs": [],
   "source": [
    "from ultralytics import YOLO\n",
    "\n",
    "# 모델 로드\n",
    "model = YOLO(\"C:/Users/AI-LHJ/Desktop/YOLOv11/runs/segment/train11/weights/best.pt\")  # 사용자 정의 모델을 로드합니다\n",
    "\n",
    "# 모델 검증\n",
    "metrics = model.val()  # 인자가 필요 없음, 데이터셋과 설정이 기억됩니다\n",
    "metrics.box.map    # map50-95\n",
    "metrics.box.map50  # map50\n",
    "metrics.box.map75  # map75\n",
    "metrics.box.maps   # 각 카테고리의 map50-95가 포함된 목록"
   ]
  },
  {
   "cell_type": "code",
   "execution_count": null,
   "metadata": {},
   "outputs": [],
   "source": [
    "from ultralytics import YOLO\n",
    "\n",
    "# 모델 로드\n",
    "model = YOLO(\"C:/Users/AI-LHJ/Desktop/YOLOv11/runs/segment/train10/weights/best.pt\")  # 사용자 정의 모델을 로드합니다\n",
    "\n",
    "# 모델 검증\n",
    "metrics = model.val()  # 인자가 필요 없음, 데이터셋과 설정이 기억됩니다\n",
    "metrics.box.map    # map50-95\n",
    "metrics.box.map50  # map50\n",
    "metrics.box.map75  # map75\n",
    "metrics.box.maps   # 각 카테고리의 map50-95가 포함된 목록"
   ]
  },
  {
   "cell_type": "code",
   "execution_count": null,
   "metadata": {},
   "outputs": [],
   "source": [
    "from ultralytics import YOLO\n",
    "\n",
    "# 모델 로드\n",
    "model = YOLO(\"C:/Users/AI-LHJ/Desktop/ultralytics-main/runs/segment/train8/weights/best.pt\")  # 사용자 정의 모델을 로드합니다\n",
    "\n",
    "# 모델 검증\n",
    "metrics = model.val()  # 인자가 필요 없음, 데이터셋과 설정이 기억됩니다\n",
    "metrics.box.map    # map50-95\n",
    "metrics.box.map50  # map50\n",
    "metrics.box.map75  # map75\n",
    "metrics.box.maps   # 각 카테고리의 map50-95가 포함된 목록"
   ]
  },
  {
   "cell_type": "code",
   "execution_count": null,
   "metadata": {},
   "outputs": [],
   "source": [
    "from ultralytics import YOLO\n",
    "\n",
    "# 모델 로드\n",
    "model = YOLO(\"C:/Users/AI-LHJ/Desktop/YOLOv11/runs/segment/train12/weights/best.pt\")  # 사용자 정의 모델을 로드합니다\n",
    "\n",
    "# 모델 검증\n",
    "metrics = model.val()  # 인자가 필요 없음, 데이터셋과 설정이 기억됩니다\n",
    "metrics.box.map    # map50-95\n",
    "metrics.box.map50  # map50\n",
    "metrics.box.map75  # map75\n",
    "metrics.box.maps   # 각 카테고리의 map50-95가 포함된 목록"
   ]
  },
  {
   "cell_type": "code",
   "execution_count": null,
   "metadata": {},
   "outputs": [],
   "source": [
    "from ultralytics import YOLO\n",
    "\n",
    "# 모델 로드\n",
    "model = YOLO(\"C:/Users/AI-LHJ/Desktop/ultralytics-main/runs/segment/train/weights/best.pt\")  # 사용자 정의 모델을 로드합니다\n",
    "\n",
    "# 모델 검증\n",
    "metrics = model.val()  # 인자가 필요 없음, 데이터셋과 설정이 기억됩니다\n",
    "metrics.box.map    # map50-95\n",
    "metrics.box.map50  # map50\n",
    "metrics.box.map75  # map75\n",
    "metrics.box.maps   # 각 카테고리의 map50-95가 포함된 목록"
   ]
  }
 ],
 "metadata": {
  "kernelspec": {
   "display_name": "Yolov8",
   "language": "python",
   "name": "python3"
  },
  "language_info": {
   "codemirror_mode": {
    "name": "ipython",
    "version": 3
   },
   "file_extension": ".py",
   "mimetype": "text/x-python",
   "name": "python",
   "nbconvert_exporter": "python",
   "pygments_lexer": "ipython3",
   "version": "3.8.16"
  }
 },
 "nbformat": 4,
 "nbformat_minor": 2
}
