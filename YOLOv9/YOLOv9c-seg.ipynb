{
 "cells": [
  {
   "cell_type": "code",
   "execution_count": null,
   "metadata": {},
   "outputs": [],
   "source": [
    "from ultralytics import YOLO\n",
    "from multiprocessing import freeze_support\n",
    "import torch\n",
    "import os\n",
    "\n",
    "model = YOLO('yolov9c-seg.pt')\n",
    "\n",
    "if __name__=='__main__':\n",
    "    freeze_support()\n",
    "    \n",
    "    # GPU 사용 가능 여부 확인 및 설정\n",
    "    device = torch.device(\"cuda\" if torch.cuda.is_available() else \"cpu\")\n",
    "    \n",
    "    # 모델 학습 - 얼리 스토핑 파라미터 추가\n",
    "    results = model.train(\n",
    "        data='C:/Users/AI-LHJ/Desktop/Wire2/data.yaml',\n",
    "        epochs=500,\n",
    "        batch=4,\n",
    "        device=device,\n",
    "        workers=4,\n",
    "        optimizer='Adam',\n",
    "        lr0=0.001,\n",
    "        imgsz=640,\n",
    "        patience=10,  # 30 에포크 동안 성능 향상이 없으면 학습 중단\n",
    "    )\n",
    "    \n",
    "    # 학습된 모델 저장\n",
    "    model_save_path = 'C:/Users/AI-LHJ/Desktop/Wire/trained_model.pt'\n",
    "    model.save(model_save_path)\n",
    "    print(f\"Trained model saved to {model_save_path}\")\n",
    "\n",
    "    # 학습된 모델 로드 및 테스트\n",
    "    loaded_model = YOLO(model_save_path)\n",
    "    \n",
    "    # 테스트 이미지로 모델 테스트\n",
    "    test_image_path = 'C:/Users/AI-LHJ/Desktop/Wire/test_image.jpg'\n",
    "    if os.path.exists(test_image_path):\n",
    "        results = loaded_model(test_image_path)\n",
    "        print(\"Test prediction completed.\")\n",
    "        # results.show()  # 결과 시각화\n",
    "    else:\n",
    "        print(\"Test image not found. Skipping test prediction.\")"
   ]
  },
  {
   "cell_type": "code",
   "execution_count": 4,
   "metadata": {},
   "outputs": [
    {
     "name": "stdout",
     "output_type": "stream",
     "text": [
      "Ultralytics YOLOv8.2.87  Python-3.8.16 torch-2.3.1+cu118 CUDA:0 (NVIDIA GeForce RTX 3080 Ti, 12288MiB)\n",
      "YOLOv9c-seg summary (fused): 411 layers, 27,626,841 parameters, 0 gradients, 157.6 GFLOPs\n"
     ]
    },
    {
     "name": "stderr",
     "output_type": "stream",
     "text": [
      "\u001b[34m\u001b[1mval: \u001b[0mScanning C:\\Users\\AI-LHJ\\Desktop\\Wire2\\valid\\labels.cache... 366 images, 0 backgrounds, 0 corrupt: 100%|██████████| 366/366 [00:00<?, ?it/s]\n",
      "                 Class     Images  Instances      Box(P          R      mAP50  mAP50-95)     Mask(P          R      mAP50  mAP50-95): 100%|██████████| 23/23 [00:08<00:00,  2.58it/s]\n"
     ]
    },
    {
     "name": "stdout",
     "output_type": "stream",
     "text": [
      "                   all        366       4590      0.879      0.874      0.879      0.686      0.842      0.828      0.807      0.417\n",
      "              crossarm        335        840      0.925      0.936       0.95      0.797      0.907      0.908      0.909        0.5\n",
      "                  polo        361        362      0.949      0.982      0.968      0.722      0.957      0.972      0.961      0.568\n",
      "                  wire        365       3388      0.763      0.705      0.718      0.539      0.663      0.603      0.551      0.184\n",
      "Speed: 1.0ms preprocess, 11.0ms inference, 0.0ms loss, 1.1ms postprocess per image\n",
      "Results saved to \u001b[1mruns\\segment\\val\u001b[0m\n"
     ]
    },
    {
     "data": {
      "text/plain": [
       "array([    0.79667,     0.72248,     0.53877])"
      ]
     },
     "execution_count": 4,
     "metadata": {},
     "output_type": "execute_result"
    }
   ],
   "source": [
    "from ultralytics import YOLO\n",
    "\n",
    "# 모델 로드\n",
    "model = YOLO(\"C:/Users/AI-LHJ/Desktop/yolov9-main/runs/segment/train4/weights/best.pt\")  # 사용자 정의 모델을 로드합니다\n",
    "\n",
    "# 모델 검증\n",
    "metrics = model.val()  # 인자가 필요 없음, 데이터셋과 설정이 기억됩니다\n",
    "metrics.box.map    # map50-95\n",
    "metrics.box.map50  # map50\n",
    "metrics.box.map75  # map75\n",
    "metrics.box.maps   # 각 카테고리의 map50-95가 포함된 목록"
   ]
  }
 ],
 "metadata": {
  "kernelspec": {
   "display_name": "Yolov8",
   "language": "python",
   "name": "python3"
  },
  "language_info": {
   "codemirror_mode": {
    "name": "ipython",
    "version": 3
   },
   "file_extension": ".py",
   "mimetype": "text/x-python",
   "name": "python",
   "nbconvert_exporter": "python",
   "pygments_lexer": "ipython3",
   "version": "3.8.16"
  }
 },
 "nbformat": 4,
 "nbformat_minor": 2
}
