{
 "cells": [
  {
   "cell_type": "code",
   "execution_count": null,
   "metadata": {},
   "outputs": [],
   "source": [
    "from ultralytics import YOLO\n",
    "from sort import *  # SORT 알고리즘 import\n",
    "import cv2\n",
    "import numpy as np\n",
    "\n",
    "# YOLO 모델 로드\n",
    "model = YOLO('path/to/your/trained/model.pt')\n",
    "\n",
    "# SORT 추적기 초기화\n",
    "mot_tracker = Sort()\n",
    "\n",
    "def detect_and_track(image):\n",
    "    # YOLO로 객체 감지\n",
    "    results = model(image)\n",
    "    \n",
    "    # 감지된 객체의 바운딩 박스 추출\n",
    "    detections = results[0].boxes.xyxy.cpu().numpy()\n",
    "    \n",
    "    # SORT로 객체 추적\n",
    "    tracked_objects = mot_tracker.update(detections)\n",
    "    \n",
    "    return tracked_objects\n",
    "\n",
    "def compare_images(image1, image2):\n",
    "    # 두 이미지에서 객체 감지 및 추적\n",
    "    objects1 = detect_and_track(image1)\n",
    "    objects2 = detect_and_track(image2)\n",
    "    \n",
    "    # 객체 ID를 기반으로 변화 감지\n",
    "    disappeared = set(objects1[:, 4]) - set(objects2[:, 4])\n",
    "    appeared = set(objects2[:, 4]) - set(objects1[:, 4])\n",
    "    \n",
    "    return disappeared, appeared\n",
    "\n",
    "# 이미지 로드\n",
    "image1 = cv2.imread('path/to/first/image.jpg')\n",
    "image2 = cv2.imread('path/to/second/image.jpg')\n",
    "\n",
    "# 변화 감지\n",
    "disappeared, appeared = compare_images(image1, image2)\n",
    "\n",
    "print(\"Disappeared objects:\", disappeared)\n",
    "print(\"Appeared objects:\", appeared)"
   ]
  }
 ],
 "metadata": {
  "kernelspec": {
   "display_name": "Yolov8",
   "language": "python",
   "name": "python3"
  },
  "language_info": {
   "name": "python",
   "version": "3.8.16"
  }
 },
 "nbformat": 4,
 "nbformat_minor": 2
}
